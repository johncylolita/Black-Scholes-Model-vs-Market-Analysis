{
 "cells": [
  {
   "cell_type": "code",
   "execution_count": null,
   "metadata": {},
   "outputs": [],
   "source": [
    "# Standard imports\n",
    "import pandas as pd\n",
    "import numpy as np\n",
    "import matplotlib.pyplot as plt\n",
    "\n",
    "\n",
    "import seaborn as sns\n",
    "from scipy import stats\n",
    "from datetime import datetime\n",
    "import yfinance as yf\n",
    "import math as m"
   ]
  },
  {
   "cell_type": "code",
   "execution_count": null,
   "metadata": {},
   "outputs": [],
   "source": [
    "# Enhanced Visualization\n",
    "sns.set(style=\"whitegrid\")  # Setting seaborn style for better aesthetics"
   ]
  },
  {
   "cell_type": "code",
   "execution_count": null,
   "metadata": {},
   "outputs": [],
   "source": [
    "# Suppressing 'SettingWithCopyWarning' for cleaner notebook execution\n",
    "pd.options.mode.chained_assignment = None"
   ]
  },
  {
   "cell_type": "code",
   "execution_count": null,
   "metadata": {},
   "outputs": [],
   "source": [
    "# Fetching data from Yahoo Finance\n",
    "end = datetime.now()\n",
    "start = datetime(end.year, end.month - 1, end.day)\n",
    "\n",
    "stock_name = 'TSLA'\n",
    "stockticker = yf.Ticker(stock_name)\n",
    "\n",
    "# Historical stock data\n",
    "asset_df = stockticker.history(interval=\"1d\", start=start, end=end)\n",
    "asset_df.head()"
   ]
  },
  {
   "cell_type": "markdown",
   "metadata": {},
   "source": [
    "### Data Visualization\n",
    "We begin by visualizing the closing price of Tesla (TSLA) over the last month. \n",
    "This initial plot provides a quick overview of the stock's recent performance, \n",
    "offering insights into its volatility and trend direction. Visual enhancements \n",
    "via seaborn improve readability and aesthetic appeal."
   ]
  },
  {
   "cell_type": "code",
   "execution_count": null,
   "metadata": {},
   "outputs": [],
   "source": [
    "# Plotting Closing Price with Seaborn\n",
    "plt.figure(figsize=(10, 6))\n",
    "sns.lineplot(data=asset_df, x=asset_df.index, y=\"Close\").set_title(f\"{stock_name} Closing Price - Last Month\")\n",
    "plt.xticks(rotation=45)\n",
    "plt.tight_layout()\n",
    "plt.show()"
   ]
  },
  {
   "cell_type": "markdown",
   "metadata": {},
   "source": [
    "### Moving Averages Analysis\n",
    "Next, we add short-term (20-day) and long-term (50-day) moving averages to our analysis.\n",
    "These moving averages help identify trends and potential reversal points, which are \n",
    "crucial for making informed trading decisions. The crossing of these averages can \n",
    "signal buy or sell opportunities."
   ]
  },
  {
   "cell_type": "code",
   "execution_count": null,
   "metadata": {},
   "outputs": [],
   "source": [
    "# Adding Moving Averages\n",
    "asset_df['SMA_20'] = asset_df['Close'].rolling(window=20).mean()\n",
    "asset_df['SMA_50'] = asset_df['Close'].rolling(window=50).mean()\n",
    "asset_df.head()"
   ]
  },
  {
   "cell_type": "code",
   "execution_count": null,
   "metadata": {},
   "outputs": [],
   "source": [
    "# Plotting with Moving Averages\n",
    "plt.figure(figsize=(10, 6))\n",
    "sns.lineplot(data=asset_df, x=asset_df.index, y=\"Close\", label=\"Close\")\n",
    "sns.lineplot(data=asset_df, x=asset_df.index, y=\"SMA_20\", label=\"20-Day SMA\")\n",
    "sns.lineplot(data=asset_df, x=asset_df.index, y=\"SMA_50\", label=\"50-Day SMA\")\n",
    "plt.title(f\"{stock_name} Closing Price with Moving Averages\")\n",
    "plt.xticks(rotation=45)\n",
    "plt.tight_layout()\n",
    "plt.legend()\n",
    "plt.show()"
   ]
  }
 ],
 "metadata": {
  "language_info": {
   "name": "python"
  }
 },
 "nbformat": 4,
 "nbformat_minor": 2
}
